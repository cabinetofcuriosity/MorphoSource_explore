{
 "cells": [
  {
   "cell_type": "code",
   "execution_count": 3,
   "metadata": {},
   "outputs": [
    {
     "data": {
      "text/html": [
       "<script type=\"text/javascript\">window.PlotlyConfig = {MathJaxConfig: 'local'};</script><script type=\"text/javascript\">if (window.MathJax) {MathJax.Hub.Config({SVG: {font: \"STIX-Web\"}});}</script><script>requirejs.config({paths: { 'plotly': ['https://cdn.plot.ly/plotly-latest.min']},});if(!window._Plotly) {require(['plotly'],function(plotly) {window._Plotly=plotly;});}</script>"
      ],
      "text/vnd.plotly.v1+html": [
       "<script type=\"text/javascript\">window.PlotlyConfig = {MathJaxConfig: 'local'};</script><script type=\"text/javascript\">if (window.MathJax) {MathJax.Hub.Config({SVG: {font: \"STIX-Web\"}});}</script><script>requirejs.config({paths: { 'plotly': ['https://cdn.plot.ly/plotly-latest.min']},});if(!window._Plotly) {require(['plotly'],function(plotly) {window._Plotly=plotly;});}</script>"
      ]
     },
     "metadata": {},
     "output_type": "display_data"
    }
   ],
   "source": [
    "# https://www.raddq.com/dicom-processing-segmentation-visualization-in-python/ (very promising)\n",
    "\n",
    "from os.path import isfile, join\n",
    "import numpy as np\n",
    "import dicom\n",
    "import os\n",
    "import matplotlib.pyplot as plt\n",
    "from glob import glob\n",
    "from mpl_toolkits.mplot3d.art3d import Poly3DCollection\n",
    "import scipy.ndimage\n",
    "from skimage import morphology\n",
    "from skimage import measure\n",
    "from skimage.transform import resize\n",
    "from sklearn.cluster import KMeans\n",
    "from plotly import __version__\n",
    "from plotly.offline import download_plotlyjs, init_notebook_mode, plot, iplot\n",
    "from plotly.tools import FigureFactory as FF\n",
    "from plotly.graph_objs import *\n",
    "init_notebook_mode(connected=True) \n",
    "\n"
   ]
  },
  {
   "cell_type": "code",
   "execution_count": 4,
   "metadata": {},
   "outputs": [
    {
     "name": "stdout",
     "output_type": "stream",
     "text": [
      "/Users/samanthatang/Desktop/URAP/Morphosource_no_specimen_M16076/no_specimen_M16076-29919_no_specimen/Stack\n",
      "First 5:\n",
      "/Users/samanthatang/Desktop/URAP/Morphosource_no_specimen_M16076/no_specimen_M16076-29919_no_specimen/Stack/Image00000.jpg\n",
      "/Users/samanthatang/Desktop/URAP/Morphosource_no_specimen_M16076/no_specimen_M16076-29919_no_specimen/Stack/Image00001.jpg\n",
      "/Users/samanthatang/Desktop/URAP/Morphosource_no_specimen_M16076/no_specimen_M16076-29919_no_specimen/Stack/Image00002.jpg\n",
      "/Users/samanthatang/Desktop/URAP/Morphosource_no_specimen_M16076/no_specimen_M16076-29919_no_specimen/Stack/Image00003.jpg\n",
      "/Users/samanthatang/Desktop/URAP/Morphosource_no_specimen_M16076/no_specimen_M16076-29919_no_specimen/Stack/Image00004.jpg\n"
     ]
    }
   ],
   "source": [
    "stack_file = r\"Stack\"\n",
    "s_dirpath = r\"/Users/samanthatang/Desktop/URAP/Morphosource_no_specimen_M16076/no_specimen_M16076-29919_no_specimen\"\n",
    "\n",
    "s_filepath = join(s_dirpath, stack_file)\n",
    "print(s_filepath) #good practice to always print out to double check\n",
    "\n",
    "g = glob(s_filepath + \"/*.jpg\") #see documentation (can use to get all jpg files?)\n",
    "g\n",
    "\n",
    "#print out first 5 files: \n",
    "print(\"First 5:\" )\n",
    "print('\\n'.join(g[:5]))"
   ]
  },
  {
   "cell_type": "code",
   "execution_count": 5,
   "metadata": {},
   "outputs": [],
   "source": [
    "from PIL import Image"
   ]
  },
  {
   "cell_type": "code",
   "execution_count": 10,
   "metadata": {},
   "outputs": [],
   "source": [
    "p = \"/Users/samanthatang/Desktop/URAP/Morphosource_no_specimen_M16076/no_specimen_M16076-29919_no_specimen/Stack\"\n",
    "\n",
    "#need to convert jpg files to np arrays? \n",
    "\n",
    "def load_scan(path): \n",
    "    \n",
    "    #list comprehension: too many files \n",
    "#     slices = [Image.open(p + \"/\" + s) for s in os.listdir(path)]\n",
    "    \n",
    "    slices = []\n",
    "    for i in np.arange(1746): \n",
    "        if (i % 100 == 0):\n",
    "            one_img = Image.open(p + \"/\" + os.listdir(p)[i])\n",
    "            slices.append(one_img)\n",
    "    return slices\n",
    "\n",
    "def convert(scans): \n",
    "    im = np.stack([np.array(s) for s in scans])\n",
    "    \n",
    "#     im = im.astype(np.int16)\n",
    "    \n",
    "#     return np.array(im, dtype=np.int16)\n",
    "    return im\n",
    "\n",
    "loaded_d = load_scan(p)\n",
    "# type(loaded_d[0])\n",
    "\n",
    "np_data = convert(loaded_d)\n",
    "\n",
    "#testing purposes to get one image: \n",
    "# test = os.listdir(p)[0]\n",
    "# Image.open(p + \"/\" + test)"
   ]
  },
  {
   "cell_type": "code",
   "execution_count": 11,
   "metadata": {},
   "outputs": [],
   "source": [
    "#from website code:  \n",
    "\n",
    "def sample_stack(stack, rows=6, cols=6, start_with=10, show_every=1):\n",
    "    fig,ax = plt.subplots(rows,cols,figsize=[12,12])\n",
    "    for i in range(rows*cols):\n",
    "        ind = start_with + i*show_every\n",
    "        ax[int(i/rows),int(i % rows)].set_title('slice %d' % ind)\n",
    "        ax[int(i/rows),int(i % rows)].imshow(stack[ind],cmap='gray')\n",
    "        ax[int(i/rows),int(i % rows)].axis('off')\n",
    "    plt.show()\n",
    "\n",
    "# sample_stack(np_data) #will fix this at a later data: \n",
    "# len(np_data)"
   ]
  },
  {
   "cell_type": "code",
   "execution_count": 12,
   "metadata": {},
   "outputs": [],
   "source": [
    "#from site code: \n",
    "\n",
    "def make_mesh(image, threshold=-300, step_size=1):\n",
    "\n",
    "    print(\"Transposing surface\")\n",
    "    p = image.transpose(2,1,0)\n",
    "    \n",
    "    print(\"Calculating surface\")\n",
    "    verts, faces, norm, val = measure.marching_cubes_lewiner(p, threshold, step_size=step_size, allow_degenerate=True) \n",
    "    return verts, faces\n",
    "\n",
    "def plotly_3d(verts, faces):\n",
    "    x,y,z = zip(*verts) \n",
    "    \n",
    "    print(\"Drawing\")\n",
    "    \n",
    "    # Make the colormap single color since the axes are positional not intensity. \n",
    "#    colormap=['rgb(255,105,180)','rgb(255,255,51)','rgb(0,191,255)']\n",
    "    colormap=['rgb(236, 236, 212)','rgb(236, 236, 212)']\n",
    "    \n",
    "    fig = FF.create_trisurf(x=x,\n",
    "                        y=y, \n",
    "                        z=z, \n",
    "                        plot_edges=False,\n",
    "                        colormap=colormap,\n",
    "                        simplices=faces,\n",
    "                        backgroundcolor='rgb(64, 64, 64)',\n",
    "                        title=\"Interactive Visualization\")\n",
    "    iplot(fig)\n",
    "\n",
    "def plt_3d(verts, faces):\n",
    "    print(\"Drawing\")\n",
    "    x,y,z = zip(*verts) \n",
    "    fig = plt.figure(figsize=(10, 10))\n",
    "    ax = fig.add_subplot(111, projection='3d')\n",
    "\n",
    "    # Fancy indexing: `verts[faces]` to generate a collection of triangles\n",
    "    mesh = Poly3DCollection(verts[faces], linewidths=0.05, alpha=1)\n",
    "    face_color = [1, 1, 0.9]\n",
    "    mesh.set_facecolor(face_color)\n",
    "    ax.add_collection3d(mesh)\n",
    "\n",
    "    ax.set_xlim(0, max(x))\n",
    "    ax.set_ylim(0, max(y))\n",
    "    ax.set_zlim(0, max(z))\n",
    "    ax.set_axis_bgcolor((0.7, 0.7, 0.7))\n",
    "    plt.show()"
   ]
  },
  {
   "cell_type": "code",
   "execution_count": 13,
   "metadata": {},
   "outputs": [
    {
     "name": "stdout",
     "output_type": "stream",
     "text": [
      "Transposing surface\n",
      "Calculating surface\n"
     ]
    },
    {
     "ename": "ValueError",
     "evalue": "Surface level must be within volume data range.",
     "output_type": "error",
     "traceback": [
      "\u001b[0;31m---------------------------------------------------------------------------\u001b[0m",
      "\u001b[0;31mValueError\u001b[0m                                Traceback (most recent call last)",
      "\u001b[0;32m<ipython-input-13-ec891243e61a>\u001b[0m in \u001b[0;36m<module>\u001b[0;34m\u001b[0m\n\u001b[0;32m----> 1\u001b[0;31m \u001b[0mv\u001b[0m\u001b[0;34m,\u001b[0m \u001b[0mf\u001b[0m \u001b[0;34m=\u001b[0m \u001b[0mmake_mesh\u001b[0m\u001b[0;34m(\u001b[0m\u001b[0mnp_data\u001b[0m\u001b[0;34m,\u001b[0m \u001b[0;36m350\u001b[0m\u001b[0;34m)\u001b[0m\u001b[0;34m\u001b[0m\u001b[0;34m\u001b[0m\u001b[0m\n\u001b[0m\u001b[1;32m      2\u001b[0m \u001b[0mplt_3d\u001b[0m\u001b[0;34m(\u001b[0m\u001b[0mv\u001b[0m\u001b[0;34m,\u001b[0m \u001b[0mf\u001b[0m\u001b[0;34m)\u001b[0m\u001b[0;34m\u001b[0m\u001b[0;34m\u001b[0m\u001b[0m\n",
      "\u001b[0;32m<ipython-input-12-a89117c2b851>\u001b[0m in \u001b[0;36mmake_mesh\u001b[0;34m(image, threshold, step_size)\u001b[0m\n\u001b[1;32m      7\u001b[0m \u001b[0;34m\u001b[0m\u001b[0m\n\u001b[1;32m      8\u001b[0m     \u001b[0mprint\u001b[0m\u001b[0;34m(\u001b[0m\u001b[0;34m\"Calculating surface\"\u001b[0m\u001b[0;34m)\u001b[0m\u001b[0;34m\u001b[0m\u001b[0;34m\u001b[0m\u001b[0m\n\u001b[0;32m----> 9\u001b[0;31m     \u001b[0mverts\u001b[0m\u001b[0;34m,\u001b[0m \u001b[0mfaces\u001b[0m\u001b[0;34m,\u001b[0m \u001b[0mnorm\u001b[0m\u001b[0;34m,\u001b[0m \u001b[0mval\u001b[0m \u001b[0;34m=\u001b[0m \u001b[0mmeasure\u001b[0m\u001b[0;34m.\u001b[0m\u001b[0mmarching_cubes_lewiner\u001b[0m\u001b[0;34m(\u001b[0m\u001b[0mp\u001b[0m\u001b[0;34m,\u001b[0m \u001b[0mthreshold\u001b[0m\u001b[0;34m,\u001b[0m \u001b[0mstep_size\u001b[0m\u001b[0;34m=\u001b[0m\u001b[0mstep_size\u001b[0m\u001b[0;34m,\u001b[0m \u001b[0mallow_degenerate\u001b[0m\u001b[0;34m=\u001b[0m\u001b[0;32mTrue\u001b[0m\u001b[0;34m)\u001b[0m\u001b[0;34m\u001b[0m\u001b[0;34m\u001b[0m\u001b[0m\n\u001b[0m\u001b[1;32m     10\u001b[0m     \u001b[0;32mreturn\u001b[0m \u001b[0mverts\u001b[0m\u001b[0;34m,\u001b[0m \u001b[0mfaces\u001b[0m\u001b[0;34m\u001b[0m\u001b[0;34m\u001b[0m\u001b[0m\n\u001b[1;32m     11\u001b[0m \u001b[0;34m\u001b[0m\u001b[0m\n",
      "\u001b[0;32m~/anaconda3/lib/python3.6/site-packages/skimage/measure/_marching_cubes_lewiner.py\u001b[0m in \u001b[0;36mmarching_cubes_lewiner\u001b[0;34m(volume, level, spacing, gradient_direction, step_size, allow_degenerate, use_classic)\u001b[0m\n\u001b[1;32m    133\u001b[0m         \u001b[0mlevel\u001b[0m \u001b[0;34m=\u001b[0m \u001b[0mfloat\u001b[0m\u001b[0;34m(\u001b[0m\u001b[0mlevel\u001b[0m\u001b[0;34m)\u001b[0m\u001b[0;34m\u001b[0m\u001b[0;34m\u001b[0m\u001b[0m\n\u001b[1;32m    134\u001b[0m         \u001b[0;32mif\u001b[0m \u001b[0mlevel\u001b[0m \u001b[0;34m<\u001b[0m \u001b[0mvolume\u001b[0m\u001b[0;34m.\u001b[0m\u001b[0mmin\u001b[0m\u001b[0;34m(\u001b[0m\u001b[0;34m)\u001b[0m \u001b[0;32mor\u001b[0m \u001b[0mlevel\u001b[0m \u001b[0;34m>\u001b[0m \u001b[0mvolume\u001b[0m\u001b[0;34m.\u001b[0m\u001b[0mmax\u001b[0m\u001b[0;34m(\u001b[0m\u001b[0;34m)\u001b[0m\u001b[0;34m:\u001b[0m\u001b[0;34m\u001b[0m\u001b[0;34m\u001b[0m\u001b[0m\n\u001b[0;32m--> 135\u001b[0;31m             \u001b[0;32mraise\u001b[0m \u001b[0mValueError\u001b[0m\u001b[0;34m(\u001b[0m\u001b[0;34m\"Surface level must be within volume data range.\"\u001b[0m\u001b[0;34m)\u001b[0m\u001b[0;34m\u001b[0m\u001b[0;34m\u001b[0m\u001b[0m\n\u001b[0m\u001b[1;32m    136\u001b[0m     \u001b[0;31m# spacing\u001b[0m\u001b[0;34m\u001b[0m\u001b[0;34m\u001b[0m\u001b[0;34m\u001b[0m\u001b[0m\n\u001b[1;32m    137\u001b[0m     \u001b[0;32mif\u001b[0m \u001b[0mlen\u001b[0m\u001b[0;34m(\u001b[0m\u001b[0mspacing\u001b[0m\u001b[0;34m)\u001b[0m \u001b[0;34m!=\u001b[0m \u001b[0;36m3\u001b[0m\u001b[0;34m:\u001b[0m\u001b[0;34m\u001b[0m\u001b[0;34m\u001b[0m\u001b[0m\n",
      "\u001b[0;31mValueError\u001b[0m: Surface level must be within volume data range."
     ]
    }
   ],
   "source": [
    "v, f = make_mesh(np_data, 350)\n",
    "plt_3d(v, f)"
   ]
  },
  {
   "cell_type": "code",
   "execution_count": null,
   "metadata": {},
   "outputs": [],
   "source": []
  }
 ],
 "metadata": {
  "kernelspec": {
   "display_name": "Python 3",
   "language": "python",
   "name": "python3"
  },
  "language_info": {
   "codemirror_mode": {
    "name": "ipython",
    "version": 3
   },
   "file_extension": ".py",
   "mimetype": "text/x-python",
   "name": "python",
   "nbconvert_exporter": "python",
   "pygments_lexer": "ipython3",
   "version": "3.6.8"
  }
 },
 "nbformat": 4,
 "nbformat_minor": 2
}
