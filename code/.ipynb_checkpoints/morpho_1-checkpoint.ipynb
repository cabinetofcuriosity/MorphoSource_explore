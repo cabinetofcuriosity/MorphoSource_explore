{
 "cells": [
  {
   "cell_type": "markdown",
   "metadata": {},
   "source": [
    "# MorphoSource"
   ]
  },
  {
   "cell_type": "markdown",
   "metadata": {},
   "source": [
    "MorphoSource is a digital repository hosted by Duke University Research Computing and aggregates a collection of 3D images and media pertaining to physical objects and/or biological specimens. Researchers, museum curators, universties, organzations, and the general public are able to download and interact with these data files through analysis and/or personal exploration. \n",
    "\n",
    "Personally, I think that the available images are really cool to look at, especially since most of them are scanned and uploaded on 3D platforms so that users can really look at the specimens/objects in various perspectives and orientations. Go check it out! Currently, MorphoSouce is planning on improving the diversity and complexity of the 3D images preserved and the security of the datasets stored on their platform. More information can be found on their [About Me](https://www.morphosource.org/About/home) page!"
   ]
  },
  {
   "cell_type": "markdown",
   "metadata": {},
   "source": [
    "## Become a MorphoSource User"
   ]
  },
  {
   "cell_type": "markdown",
   "metadata": {},
   "source": [
    "In order to download data from MorphoSource directly, you must create an account. It's free! And you can sign up [here](https://www.morphosource.org/LoginReg/form).\n",
    "\n",
    "On the MorphoSource website, you can browse datasets using their serach engine and sort by institution, taxonmony, and other filters to help you locate your specific type of data. There are also tips on browsing and searching provided by MorphoSource [here](https://www.morphosource.org/About/userInfo).\n",
    "\n",
    "Or, if you want to upload datasets and specimen images, you can create a new project and add media from there. But since this post will mainly be focusing on how to access the datasets, I won't delve too deeply on this part. However, you can find a step-by-step guide on creating projects on their [User Guide](https://www.morphosource.org/About/userGuide). \n",
    "\n",
    "It is also important to note that the data used falls under the MorphoSource Download Agreement Use Agreement, which comes attached with your download as a pdf. I have also linked a general terms agreement [here](https://www.morphosource.org/About/termsAndConditions). \n"
   ]
  },
  {
   "cell_type": "markdown",
   "metadata": {},
   "source": [
    "## Accessing MorphoSource Datasets"
   ]
  },
  {
   "cell_type": "markdown",
   "metadata": {},
   "source": [
    "First of all, you should find a dataset that interests you and download them onto your local computer. For the purpose of this example, I will be using Cornell University Museum of Vertebrates' dataset from their project \"oVert: UW - CT Scan all Fishes\". \n",
    "\n",
    "The purpose of their project is to provide scans for ALL fishes, and as stated in their project abstract, citation information is provided on each individual scan after clicking on the image: \n",
    "\n",
    "\"The aim of this project is the scan ALL the fishes even the sarcopterygians On every scan page there is a link to the proper way to reference the data if they are used in a publication. We would also appreciate a note if you get something useful out of these data. You can follow along with what is posted here at the Twitter hashtag #ScanAllFishes. All of the fishes we have scanner are listed in a Google Doc Sheet but I can't add a link to this abstract. Getting the data up on this site is a serious bottleneck. If you need a particular species we will move the slice data here ASAP. Email Adam Summers. This work is supported by the National Science Foundation and the Seaver Institute.\"\n",
    "\n",
    "You can access this dataset [here](https://www.morphosource.org/Detail/ProjectDetail/Show/project_id/220). The dataset and CSV file that I'm using for this tutorial was downloaded on October 4th, 2018, so there may be changes to the dataset/files since I've accessed it. \n",
    "\n",
    "Since the group also provided an aggregate of information about their scans in a [google doc](https://docs.google.com/spreadsheets/d/1TUqJJNPFdAEjncQXJ8D6iX0ootl5EfiNNHEE9kPgQpE/edit?ts=5702a468#gid=0), I will be using this to show how we can play around with the data by downloading the file as a csv. This is especially since the scans for each fish species only provides information for that individual scan (but it's still really cool to look at)! See below: \n",
    "\n",
    "\n",
    "<table><tr><td><img src='images/morpho1_images/Info.jpg'></td><td><img src='images/morpho1_images/Info2.jpg'></td></tr></table>"
   ]
  },
  {
   "cell_type": "markdown",
   "metadata": {},
   "source": [
    "These images are from the Info.jpg file that is provided in the media file downloaded. They also have LOTS of individual stack scans that provide a 3D image of the fish! There is also a Scanner.log file that documents specific information about each individual scan. Check it out!"
   ]
  },
  {
   "cell_type": "markdown",
   "metadata": {},
   "source": [
    "As a brief introduction/review to the dataset and to understand the images better, I'll be doing a very brief exploration of the data using the csv provided on MorphoSource for this particular dataset. \n",
    "\n",
    "The first thing you should do is import all these packages/modules in your cell on Jupiter and read in the csv file"
   ]
  },
  {
   "cell_type": "code",
   "execution_count": 63,
   "metadata": {},
   "outputs": [],
   "source": [
    "import numpy as np\n",
    "import pandas as pd\n",
    "import seaborn as sns\n",
    "import matplotlib.pyplot as plt\n",
    "\n",
    "%matplotlib inline\n"
   ]
  },
  {
   "cell_type": "code",
   "execution_count": 64,
   "metadata": {},
   "outputs": [
    {
     "data": {
      "text/html": [
       "<div>\n",
       "<style scoped>\n",
       "    .dataframe tbody tr th:only-of-type {\n",
       "        vertical-align: middle;\n",
       "    }\n",
       "\n",
       "    .dataframe tbody tr th {\n",
       "        vertical-align: top;\n",
       "    }\n",
       "\n",
       "    .dataframe thead th {\n",
       "        text-align: right;\n",
       "    }\n",
       "</style>\n",
       "<table border=\"1\" class=\"dataframe\">\n",
       "  <thead>\n",
       "    <tr style=\"text-align: right;\">\n",
       "      <th></th>\n",
       "      <th>Scanner</th>\n",
       "      <th>Session</th>\n",
       "      <th>Copyright</th>\n",
       "      <th>family</th>\n",
       "      <th>Species</th>\n",
       "      <th>Genus</th>\n",
       "      <th>number</th>\n",
       "      <th>Collection</th>\n",
       "      <th>length</th>\n",
       "      <th>photo</th>\n",
       "      <th>...</th>\n",
       "      <th>STL</th>\n",
       "      <th>who uploaded</th>\n",
       "      <th>when uploaded</th>\n",
       "      <th>spec. image</th>\n",
       "      <th>Comments</th>\n",
       "      <th>User1</th>\n",
       "      <th>User2</th>\n",
       "      <th>User3</th>\n",
       "      <th>Backup Drive</th>\n",
       "      <th>oVert Tag#</th>\n",
       "    </tr>\n",
       "  </thead>\n",
       "  <tbody>\n",
       "    <tr>\n",
       "      <th>0</th>\n",
       "      <td>Bruker Skyscan 1173</td>\n",
       "      <td>KassieKoryMax1</td>\n",
       "      <td>NaN</td>\n",
       "      <td>Apteronotidae</td>\n",
       "      <td>Compsaraia samueli</td>\n",
       "      <td>Compsaraia</td>\n",
       "      <td>200485</td>\n",
       "      <td>ANSP</td>\n",
       "      <td>NaN</td>\n",
       "      <td>Y</td>\n",
       "      <td>...</td>\n",
       "      <td>NaN</td>\n",
       "      <td>NaN</td>\n",
       "      <td>NaN</td>\n",
       "      <td>NaN</td>\n",
       "      <td>NaN</td>\n",
       "      <td>NaN</td>\n",
       "      <td>NaN</td>\n",
       "      <td>NaN</td>\n",
       "      <td>NaN</td>\n",
       "      <td>NaN</td>\n",
       "    </tr>\n",
       "    <tr>\n",
       "      <th>1</th>\n",
       "      <td>Toshiba Aquilion 64</td>\n",
       "      <td>Mara</td>\n",
       "      <td>NaN</td>\n",
       "      <td>Sphyrnidae</td>\n",
       "      <td>Eusphyra blochii</td>\n",
       "      <td>Eusphyra</td>\n",
       "      <td>NaN</td>\n",
       "      <td>NaN</td>\n",
       "      <td>NaN</td>\n",
       "      <td>NaN</td>\n",
       "      <td>...</td>\n",
       "      <td>NaN</td>\n",
       "      <td>NaN</td>\n",
       "      <td>NaN</td>\n",
       "      <td>NaN</td>\n",
       "      <td>Medical scanner table visible in slices</td>\n",
       "      <td>NaN</td>\n",
       "      <td>NaN</td>\n",
       "      <td>NaN</td>\n",
       "      <td>NaN</td>\n",
       "      <td>NaN</td>\n",
       "    </tr>\n",
       "    <tr>\n",
       "      <th>2</th>\n",
       "      <td>Toshiba Aquilion 64</td>\n",
       "      <td>Mara</td>\n",
       "      <td>NaN</td>\n",
       "      <td>Sphyrnidae</td>\n",
       "      <td>Sphyrna lewini</td>\n",
       "      <td>Sphyrna</td>\n",
       "      <td>NaN</td>\n",
       "      <td>NaN</td>\n",
       "      <td>NaN</td>\n",
       "      <td>NaN</td>\n",
       "      <td>...</td>\n",
       "      <td>NaN</td>\n",
       "      <td>NaN</td>\n",
       "      <td>NaN</td>\n",
       "      <td>NaN</td>\n",
       "      <td>Medical scanner table visible in slices</td>\n",
       "      <td>NaN</td>\n",
       "      <td>NaN</td>\n",
       "      <td>NaN</td>\n",
       "      <td>NaN</td>\n",
       "      <td>NaN</td>\n",
       "    </tr>\n",
       "    <tr>\n",
       "      <th>3</th>\n",
       "      <td>Toshiba Aquilion 64</td>\n",
       "      <td>Mara</td>\n",
       "      <td>NaN</td>\n",
       "      <td>Sphyrnidae</td>\n",
       "      <td>Sphyrna mokarran</td>\n",
       "      <td>Sphyrna</td>\n",
       "      <td>NaN</td>\n",
       "      <td>NaN</td>\n",
       "      <td>NaN</td>\n",
       "      <td>NaN</td>\n",
       "      <td>...</td>\n",
       "      <td>NaN</td>\n",
       "      <td>NaN</td>\n",
       "      <td>NaN</td>\n",
       "      <td>NaN</td>\n",
       "      <td>Medical scanner table visible in slices</td>\n",
       "      <td>NaN</td>\n",
       "      <td>NaN</td>\n",
       "      <td>NaN</td>\n",
       "      <td>NaN</td>\n",
       "      <td>NaN</td>\n",
       "    </tr>\n",
       "    <tr>\n",
       "      <th>4</th>\n",
       "      <td>Toshiba Aquilion 64</td>\n",
       "      <td>Mara</td>\n",
       "      <td>NaN</td>\n",
       "      <td>Sphyrnidae</td>\n",
       "      <td>Sphyrna tudes</td>\n",
       "      <td>Sphyrna</td>\n",
       "      <td>NaN</td>\n",
       "      <td>NaN</td>\n",
       "      <td>NaN</td>\n",
       "      <td>NaN</td>\n",
       "      <td>...</td>\n",
       "      <td>NaN</td>\n",
       "      <td>NaN</td>\n",
       "      <td>NaN</td>\n",
       "      <td>NaN</td>\n",
       "      <td>Medical scanner table visible in slices</td>\n",
       "      <td>NaN</td>\n",
       "      <td>NaN</td>\n",
       "      <td>NaN</td>\n",
       "      <td>NaN</td>\n",
       "      <td>NaN</td>\n",
       "    </tr>\n",
       "  </tbody>\n",
       "</table>\n",
       "<p>5 rows × 36 columns</p>\n",
       "</div>"
      ],
      "text/plain": [
       "               Scanner         Session Copyright         family  \\\n",
       "0  Bruker Skyscan 1173  KassieKoryMax1       NaN  Apteronotidae   \n",
       "1  Toshiba Aquilion 64            Mara       NaN     Sphyrnidae   \n",
       "2  Toshiba Aquilion 64            Mara       NaN     Sphyrnidae   \n",
       "3  Toshiba Aquilion 64            Mara       NaN     Sphyrnidae   \n",
       "4  Toshiba Aquilion 64            Mara       NaN     Sphyrnidae   \n",
       "\n",
       "              Species       Genus  number Collection length photo  ...  STL  \\\n",
       "0  Compsaraia samueli  Compsaraia  200485       ANSP    NaN     Y  ...  NaN   \n",
       "1    Eusphyra blochii    Eusphyra     NaN        NaN    NaN   NaN  ...  NaN   \n",
       "2      Sphyrna lewini     Sphyrna     NaN        NaN    NaN   NaN  ...  NaN   \n",
       "3    Sphyrna mokarran     Sphyrna     NaN        NaN    NaN   NaN  ...  NaN   \n",
       "4       Sphyrna tudes     Sphyrna     NaN        NaN    NaN   NaN  ...  NaN   \n",
       "\n",
       "  who uploaded when uploaded spec. image  \\\n",
       "0          NaN           NaN         NaN   \n",
       "1          NaN           NaN         NaN   \n",
       "2          NaN           NaN         NaN   \n",
       "3          NaN           NaN         NaN   \n",
       "4          NaN           NaN         NaN   \n",
       "\n",
       "                                   Comments User1  User2 User3 Backup Drive   \\\n",
       "0                                       NaN   NaN    NaN   NaN           NaN   \n",
       "1  Medical scanner table visible in slices    NaN    NaN   NaN           NaN   \n",
       "2  Medical scanner table visible in slices    NaN    NaN   NaN           NaN   \n",
       "3  Medical scanner table visible in slices    NaN    NaN   NaN           NaN   \n",
       "4  Medical scanner table visible in slices    NaN    NaN   NaN           NaN   \n",
       "\n",
       "  oVert Tag#  \n",
       "0        NaN  \n",
       "1        NaN  \n",
       "2        NaN  \n",
       "3        NaN  \n",
       "4        NaN  \n",
       "\n",
       "[5 rows x 36 columns]"
      ]
     },
     "execution_count": 64,
     "metadata": {},
     "output_type": "execute_result"
    }
   ],
   "source": [
    "file = pd.read_csv(r\"/Users/samanthatang/Desktop/URAP/Fish_scans.csv\")\n",
    "file.head()"
   ]
  },
  {
   "cell_type": "markdown",
   "metadata": {},
   "source": [
    "Since, I'm not interested in most of the photo data columns, I'll simply be selecting the first few relevant columns from the file, as shown below: "
   ]
  },
  {
   "cell_type": "code",
   "execution_count": 65,
   "metadata": {},
   "outputs": [
    {
     "data": {
      "text/html": [
       "<div>\n",
       "<style scoped>\n",
       "    .dataframe tbody tr th:only-of-type {\n",
       "        vertical-align: middle;\n",
       "    }\n",
       "\n",
       "    .dataframe tbody tr th {\n",
       "        vertical-align: top;\n",
       "    }\n",
       "\n",
       "    .dataframe thead th {\n",
       "        text-align: right;\n",
       "    }\n",
       "</style>\n",
       "<table border=\"1\" class=\"dataframe\">\n",
       "  <thead>\n",
       "    <tr style=\"text-align: right;\">\n",
       "      <th></th>\n",
       "      <th>Scanner</th>\n",
       "      <th>family</th>\n",
       "      <th>Species</th>\n",
       "      <th>Genus</th>\n",
       "      <th>scan date</th>\n",
       "    </tr>\n",
       "  </thead>\n",
       "  <tbody>\n",
       "    <tr>\n",
       "      <th>0</th>\n",
       "      <td>Bruker Skyscan 1173</td>\n",
       "      <td>Apteronotidae</td>\n",
       "      <td>Compsaraia samueli</td>\n",
       "      <td>Compsaraia</td>\n",
       "      <td>11/27/16</td>\n",
       "    </tr>\n",
       "    <tr>\n",
       "      <th>1</th>\n",
       "      <td>Toshiba Aquilion 64</td>\n",
       "      <td>Sphyrnidae</td>\n",
       "      <td>Eusphyra blochii</td>\n",
       "      <td>Eusphyra</td>\n",
       "      <td>10/15/07</td>\n",
       "    </tr>\n",
       "    <tr>\n",
       "      <th>2</th>\n",
       "      <td>Toshiba Aquilion 64</td>\n",
       "      <td>Sphyrnidae</td>\n",
       "      <td>Sphyrna lewini</td>\n",
       "      <td>Sphyrna</td>\n",
       "      <td>3/15/08</td>\n",
       "    </tr>\n",
       "    <tr>\n",
       "      <th>3</th>\n",
       "      <td>Toshiba Aquilion 64</td>\n",
       "      <td>Sphyrnidae</td>\n",
       "      <td>Sphyrna mokarran</td>\n",
       "      <td>Sphyrna</td>\n",
       "      <td>12/6/08</td>\n",
       "    </tr>\n",
       "    <tr>\n",
       "      <th>4</th>\n",
       "      <td>Toshiba Aquilion 64</td>\n",
       "      <td>Sphyrnidae</td>\n",
       "      <td>Sphyrna tudes</td>\n",
       "      <td>Sphyrna</td>\n",
       "      <td>8/8/09</td>\n",
       "    </tr>\n",
       "  </tbody>\n",
       "</table>\n",
       "</div>"
      ],
      "text/plain": [
       "               Scanner         family             Species       Genus  \\\n",
       "0  Bruker Skyscan 1173  Apteronotidae  Compsaraia samueli  Compsaraia   \n",
       "1  Toshiba Aquilion 64     Sphyrnidae    Eusphyra blochii    Eusphyra   \n",
       "2  Toshiba Aquilion 64     Sphyrnidae      Sphyrna lewini     Sphyrna   \n",
       "3  Toshiba Aquilion 64     Sphyrnidae    Sphyrna mokarran     Sphyrna   \n",
       "4  Toshiba Aquilion 64     Sphyrnidae       Sphyrna tudes     Sphyrna   \n",
       "\n",
       "  scan date  \n",
       "0  11/27/16  \n",
       "1  10/15/07  \n",
       "2   3/15/08  \n",
       "3   12/6/08  \n",
       "4    8/8/09  "
      ]
     },
     "execution_count": 65,
     "metadata": {},
     "output_type": "execute_result"
    }
   ],
   "source": [
    "selected_cols = file[[\"Scanner\", \"family\", \"Species\", \"Genus\", \"scan date\"]]\n",
    "selected_cols.head()"
   ]
  },
  {
   "cell_type": "markdown",
   "metadata": {},
   "source": [
    "If I wanted to look specifically at only the fishes scanned from the Bruker Skyscan 1173 scanner, I can do that too!"
   ]
  },
  {
   "cell_type": "code",
   "execution_count": 66,
   "metadata": {},
   "outputs": [
    {
     "data": {
      "text/html": [
       "<div>\n",
       "<style scoped>\n",
       "    .dataframe tbody tr th:only-of-type {\n",
       "        vertical-align: middle;\n",
       "    }\n",
       "\n",
       "    .dataframe tbody tr th {\n",
       "        vertical-align: top;\n",
       "    }\n",
       "\n",
       "    .dataframe thead th {\n",
       "        text-align: right;\n",
       "    }\n",
       "</style>\n",
       "<table border=\"1\" class=\"dataframe\">\n",
       "  <thead>\n",
       "    <tr style=\"text-align: right;\">\n",
       "      <th></th>\n",
       "      <th>Scanner</th>\n",
       "      <th>family</th>\n",
       "      <th>Species</th>\n",
       "      <th>Genus</th>\n",
       "      <th>scan date</th>\n",
       "    </tr>\n",
       "  </thead>\n",
       "  <tbody>\n",
       "    <tr>\n",
       "      <th>0</th>\n",
       "      <td>Bruker Skyscan 1173</td>\n",
       "      <td>Apteronotidae</td>\n",
       "      <td>Compsaraia samueli</td>\n",
       "      <td>Compsaraia</td>\n",
       "      <td>11/27/16</td>\n",
       "    </tr>\n",
       "    <tr>\n",
       "      <th>8</th>\n",
       "      <td>Bruker Skyscan 1173</td>\n",
       "      <td>Agonidae</td>\n",
       "      <td>Agonopsis chiloensis</td>\n",
       "      <td>Agonopsis</td>\n",
       "      <td>1/1/15</td>\n",
       "    </tr>\n",
       "    <tr>\n",
       "      <th>9</th>\n",
       "      <td>Bruker Skyscan 1173</td>\n",
       "      <td>Agonidae</td>\n",
       "      <td>Agonopsis vulsa</td>\n",
       "      <td>Agonopsis</td>\n",
       "      <td>1/1/15</td>\n",
       "    </tr>\n",
       "    <tr>\n",
       "      <th>10</th>\n",
       "      <td>Bruker Skyscan 1173</td>\n",
       "      <td>Agonidae</td>\n",
       "      <td>Anoplagonus inermis</td>\n",
       "      <td>Anoplagonus</td>\n",
       "      <td>1/1/15</td>\n",
       "    </tr>\n",
       "    <tr>\n",
       "      <th>11</th>\n",
       "      <td>Bruker Skyscan 1173</td>\n",
       "      <td>Agonidae</td>\n",
       "      <td>Aspidophoroides monopterygius</td>\n",
       "      <td>Aspidophoroides</td>\n",
       "      <td>1/1/15</td>\n",
       "    </tr>\n",
       "  </tbody>\n",
       "</table>\n",
       "</div>"
      ],
      "text/plain": [
       "                Scanner         family                        Species  \\\n",
       "0   Bruker Skyscan 1173  Apteronotidae             Compsaraia samueli   \n",
       "8   Bruker Skyscan 1173       Agonidae           Agonopsis chiloensis   \n",
       "9   Bruker Skyscan 1173       Agonidae                Agonopsis vulsa   \n",
       "10  Bruker Skyscan 1173       Agonidae            Anoplagonus inermis   \n",
       "11  Bruker Skyscan 1173       Agonidae  Aspidophoroides monopterygius   \n",
       "\n",
       "              Genus scan date  \n",
       "0        Compsaraia  11/27/16  \n",
       "8         Agonopsis    1/1/15  \n",
       "9         Agonopsis    1/1/15  \n",
       "10      Anoplagonus    1/1/15  \n",
       "11  Aspidophoroides    1/1/15  "
      ]
     },
     "execution_count": 66,
     "metadata": {},
     "output_type": "execute_result"
    }
   ],
   "source": [
    "brusker_scan = selected_cols[selected_cols[\"Scanner\"] == \"Bruker Skyscan 1173\"]\n",
    "brusker_scan.head()"
   ]
  },
  {
   "cell_type": "markdown",
   "metadata": {},
   "source": [
    "Let's group the fish by their Genus and create a simple bar chart visualization. "
   ]
  },
  {
   "cell_type": "code",
   "execution_count": 67,
   "metadata": {},
   "outputs": [
    {
     "data": {
      "text/html": [
       "<div>\n",
       "<style scoped>\n",
       "    .dataframe tbody tr th:only-of-type {\n",
       "        vertical-align: middle;\n",
       "    }\n",
       "\n",
       "    .dataframe tbody tr th {\n",
       "        vertical-align: top;\n",
       "    }\n",
       "\n",
       "    .dataframe thead th {\n",
       "        text-align: right;\n",
       "    }\n",
       "</style>\n",
       "<table border=\"1\" class=\"dataframe\">\n",
       "  <thead>\n",
       "    <tr style=\"text-align: right;\">\n",
       "      <th></th>\n",
       "      <th>Scanner</th>\n",
       "      <th>Genus</th>\n",
       "    </tr>\n",
       "  </thead>\n",
       "  <tbody>\n",
       "    <tr>\n",
       "      <th>0</th>\n",
       "      <td>Bruker Skyscan 1173</td>\n",
       "      <td>Compsaraia</td>\n",
       "    </tr>\n",
       "    <tr>\n",
       "      <th>8</th>\n",
       "      <td>Bruker Skyscan 1173</td>\n",
       "      <td>Agonopsis</td>\n",
       "    </tr>\n",
       "    <tr>\n",
       "      <th>9</th>\n",
       "      <td>Bruker Skyscan 1173</td>\n",
       "      <td>Agonopsis</td>\n",
       "    </tr>\n",
       "    <tr>\n",
       "      <th>10</th>\n",
       "      <td>Bruker Skyscan 1173</td>\n",
       "      <td>Anoplagonus</td>\n",
       "    </tr>\n",
       "    <tr>\n",
       "      <th>11</th>\n",
       "      <td>Bruker Skyscan 1173</td>\n",
       "      <td>Aspidophoroides</td>\n",
       "    </tr>\n",
       "  </tbody>\n",
       "</table>\n",
       "</div>"
      ],
      "text/plain": [
       "                Scanner            Genus\n",
       "0   Bruker Skyscan 1173       Compsaraia\n",
       "8   Bruker Skyscan 1173        Agonopsis\n",
       "9   Bruker Skyscan 1173        Agonopsis\n",
       "10  Bruker Skyscan 1173      Anoplagonus\n",
       "11  Bruker Skyscan 1173  Aspidophoroides"
      ]
     },
     "execution_count": 67,
     "metadata": {},
     "output_type": "execute_result"
    }
   ],
   "source": [
    "#selecting the rows where Genus is null\n",
    "#and from the selected rows, you can see that those with null values in Genus\n",
    "#are likely to also have null values in some of the other columns (i.e Species or family) as well\n",
    "#which makes sense since it can be hard to determine the species or family of the fish\n",
    "#if the Genus of the fish or other determining factors are unknown. \n",
    "null_Genus = brusker_scan[brusker_scan[\"Genus\"].isnull()]\n",
    "\n",
    "#create T/F array for the indexes to determine which ones are good/bad (False/True respectively)\n",
    "bad_index_tf = brusker_scan.index.isin(null_Genus.index)\n",
    "\n",
    "#filtered out all the null Genus value rows and dropped irrelevant rows\n",
    "b = brusker_scan[~bad_index_tf].drop(columns=[\"family\", \"Species\", \"scan date\"])\n",
    "b.head()"
   ]
  },
  {
   "cell_type": "code",
   "execution_count": 68,
   "metadata": {},
   "outputs": [
    {
     "data": {
      "text/html": [
       "<div>\n",
       "<style scoped>\n",
       "    .dataframe tbody tr th:only-of-type {\n",
       "        vertical-align: middle;\n",
       "    }\n",
       "\n",
       "    .dataframe tbody tr th {\n",
       "        vertical-align: top;\n",
       "    }\n",
       "\n",
       "    .dataframe thead th {\n",
       "        text-align: right;\n",
       "    }\n",
       "</style>\n",
       "<table border=\"1\" class=\"dataframe\">\n",
       "  <thead>\n",
       "    <tr style=\"text-align: right;\">\n",
       "      <th></th>\n",
       "      <th>Count</th>\n",
       "    </tr>\n",
       "    <tr>\n",
       "      <th>Genus</th>\n",
       "      <th></th>\n",
       "    </tr>\n",
       "  </thead>\n",
       "  <tbody>\n",
       "    <tr>\n",
       "      <th>#VALUE!</th>\n",
       "      <td>368</td>\n",
       "    </tr>\n",
       "    <tr>\n",
       "      <th>21</th>\n",
       "      <td>1</td>\n",
       "    </tr>\n",
       "    <tr>\n",
       "      <th>Ablennes</th>\n",
       "      <td>2</td>\n",
       "    </tr>\n",
       "    <tr>\n",
       "      <th>Abraliopsis</th>\n",
       "      <td>1</td>\n",
       "    </tr>\n",
       "    <tr>\n",
       "      <th>Abudefduf</th>\n",
       "      <td>2</td>\n",
       "    </tr>\n",
       "  </tbody>\n",
       "</table>\n",
       "</div>"
      ],
      "text/plain": [
       "             Count\n",
       "Genus             \n",
       "#VALUE!        368\n",
       "21               1\n",
       "Ablennes         2\n",
       "Abraliopsis      1\n",
       "Abudefduf        2"
      ]
     },
     "execution_count": 68,
     "metadata": {},
     "output_type": "execute_result"
    }
   ],
   "source": [
    "genus_grouped = b.groupby(\"Genus\").count().rename(columns={\"Scanner\":\"Count\"})\n",
    "genus_grouped.head()"
   ]
  },
  {
   "cell_type": "markdown",
   "metadata": {},
   "source": [
    "So we see that 368 of the fishes scanned by the Bruker Skyscan 1173 have an unknown genus (or at least the value of the fish's genus was not recorded in the excel sheet provided from the data--perhaps an issue with the scope/completeness of the data?) There's also an odd Genus name called \"21\", which I'm supposing is an error since it is unlikely for a Genus to be named 21 and there's only 1 fish labeled in this Genus.\n",
    "\n",
    "But since we are primarily interested in 3d data scans and how to access the information in these images, we will ignore the scope of the csv data for now. Instead, we will graph a basic bar plot just to visualize/compare a portion of the various fish genus scanned by the Bruker Skyscan 1173.\n",
    "\n",
    "Note: I've assumed that the #VALUE! genus implies that the genus is unknown, and thus changed the value in the csv. \n"
   ]
  },
  {
   "cell_type": "code",
   "execution_count": 83,
   "metadata": {
    "scrolled": false
   },
   "outputs": [
    {
     "data": {
      "image/png": "[encoded data removed]",
      "text/plain": [
       "<Figure size 720x576 with 1 Axes>"
      ]
     },
     "metadata": {
      "needs_background": "light"
     },
     "output_type": "display_data"
    }
   ],
   "source": [
    "import random\n",
    "\n",
    "#renamed to Unknown\n",
    "genus_grouped.rename(index={\"#VALUE!\": \"Unknown\"}, inplace=True)\n",
    "\n",
    "# since there's so much data, i'm just going to sample 50 of the rows to plot\n",
    "# but for the purpose of this exploratory analysis, I've seeded the numbers/samples picked\n",
    "# so that everytime I'll get the same 50 samples (for convenience)\n",
    "random.seed(100)\n",
    "i = [random.randint(1, len(genus_grouped)) for i in range(50)]\n",
    "\n",
    "rand_sample = genus_grouped.iloc[i] #aka pseudo-random sample\n",
    "x = rand_sample.index\n",
    "x\n",
    "\n",
    "y = rand_sample.values\n",
    "y = np.array([sublist[0] for sublist in y])\n",
    "\n",
    "\n",
    "plt.figure(figsize=(10, 8))\n",
    "plt.xticks(rotation=90)\n",
    "\n",
    "plt.xlabel(\"Genus\")\n",
    "plt.ylabel(\"Count\")\n",
    "plt.title(\"Random sample of Fish Genus scanned by Bruker Skyscan\")\n",
    "\n",
    "sns.barplot(x, y);\n"
   ]
  },
  {
   "cell_type": "markdown",
   "metadata": {},
   "source": [
    "Examining this barplot, it looks like the Cottus genus is represented much more than the other genuses sampled from our data. Perhaps this is because there are over 60 fishes recognized as belonging to this genus as compared to the other genuses like the Sternoptyx genus, which only has four recognized species in this group. Thus, the fishes scanned will most likely belong to the genus group that has more recognized species. There's also the possibility that there may be overlaps in fishes scanned (i.e. a type of fish could have been scanned multiple times). We can examine this further if we take a look at the fishes that were classified as part of the Cottus genus. "
   ]
  },
  {
   "cell_type": "code",
   "execution_count": 100,
   "metadata": {},
   "outputs": [
    {
     "data": {
      "text/html": [
       "<div>\n",
       "<style scoped>\n",
       "    .dataframe tbody tr th:only-of-type {\n",
       "        vertical-align: middle;\n",
       "    }\n",
       "\n",
       "    .dataframe tbody tr th {\n",
       "        vertical-align: top;\n",
       "    }\n",
       "\n",
       "    .dataframe thead th {\n",
       "        text-align: right;\n",
       "    }\n",
       "</style>\n",
       "<table border=\"1\" class=\"dataframe\">\n",
       "  <thead>\n",
       "    <tr style=\"text-align: right;\">\n",
       "      <th></th>\n",
       "      <th>Genus</th>\n",
       "    </tr>\n",
       "    <tr>\n",
       "      <th>Species</th>\n",
       "      <th></th>\n",
       "    </tr>\n",
       "  </thead>\n",
       "  <tbody>\n",
       "    <tr>\n",
       "      <th>Cottus aleuticus</th>\n",
       "      <td>1</td>\n",
       "    </tr>\n",
       "    <tr>\n",
       "      <th>Cottus amblystomopsis</th>\n",
       "      <td>1</td>\n",
       "    </tr>\n",
       "    <tr>\n",
       "      <th>Cottus asper</th>\n",
       "      <td>1</td>\n",
       "    </tr>\n",
       "    <tr>\n",
       "      <th>Cottus asperrimus</th>\n",
       "      <td>1</td>\n",
       "    </tr>\n",
       "    <tr>\n",
       "      <th>Cottus baileyi</th>\n",
       "      <td>4</td>\n",
       "    </tr>\n",
       "  </tbody>\n",
       "</table>\n",
       "</div>"
      ],
      "text/plain": [
       "                       Genus\n",
       "Species                     \n",
       "Cottus aleuticus           1\n",
       "Cottus amblystomopsis      1\n",
       "Cottus asper               1\n",
       "Cottus asperrimus          1\n",
       "Cottus baileyi             4"
      ]
     },
     "execution_count": 100,
     "metadata": {},
     "output_type": "execute_result"
    }
   ],
   "source": [
    "tbl = brusker_scan[brusker_scan[\"Genus\"] == \"Cottus\"][[\"Species\", \"Genus\"]].groupby(\"Species\").count() \n",
    "tbl.head()"
   ]
  },
  {
   "cell_type": "code",
   "execution_count": 129,
   "metadata": {
    "scrolled": true
   },
   "outputs": [
    {
     "data": {
      "text/html": [
       "<div>\n",
       "<style scoped>\n",
       "    .dataframe tbody tr th:only-of-type {\n",
       "        vertical-align: middle;\n",
       "    }\n",
       "\n",
       "    .dataframe tbody tr th {\n",
       "        vertical-align: top;\n",
       "    }\n",
       "\n",
       "    .dataframe thead th {\n",
       "        text-align: right;\n",
       "    }\n",
       "</style>\n",
       "<table border=\"1\" class=\"dataframe\">\n",
       "  <thead>\n",
       "    <tr style=\"text-align: right;\">\n",
       "      <th></th>\n",
       "      <th>Genus</th>\n",
       "    </tr>\n",
       "    <tr>\n",
       "      <th>Species</th>\n",
       "      <th></th>\n",
       "    </tr>\n",
       "  </thead>\n",
       "  <tbody>\n",
       "    <tr>\n",
       "      <th>Cottus baileyi</th>\n",
       "      <td>4</td>\n",
       "    </tr>\n",
       "    <tr>\n",
       "      <th>Cottus gobio</th>\n",
       "      <td>2</td>\n",
       "    </tr>\n",
       "    <tr>\n",
       "      <th>Cottus kanawhae</th>\n",
       "      <td>3</td>\n",
       "    </tr>\n",
       "    <tr>\n",
       "      <th>Cottus kazika</th>\n",
       "      <td>2</td>\n",
       "    </tr>\n",
       "    <tr>\n",
       "      <th>Cottus nozawae</th>\n",
       "      <td>3</td>\n",
       "    </tr>\n",
       "    <tr>\n",
       "      <th>Cottus reinii</th>\n",
       "      <td>5</td>\n",
       "    </tr>\n",
       "    <tr>\n",
       "      <th>Cottus rhenanus</th>\n",
       "      <td>2</td>\n",
       "    </tr>\n",
       "    <tr>\n",
       "      <th>Cottus specus</th>\n",
       "      <td>3</td>\n",
       "    </tr>\n",
       "  </tbody>\n",
       "</table>\n",
       "</div>"
      ],
      "text/plain": [
       "                 Genus\n",
       "Species               \n",
       "Cottus baileyi       4\n",
       "Cottus gobio         2\n",
       "Cottus kanawhae      3\n",
       "Cottus kazika        2\n",
       "Cottus nozawae       3\n",
       "Cottus reinii        5\n",
       "Cottus rhenanus      2\n",
       "Cottus specus        3"
      ]
     },
     "execution_count": 129,
     "metadata": {},
     "output_type": "execute_result"
    }
   ],
   "source": [
    "tbl[tbl[\"Genus\"] > 1]"
   ]
  },
  {
   "cell_type": "code",
   "execution_count": 127,
   "metadata": {},
   "outputs": [
    {
     "data": {
      "text/html": [
       "<div>\n",
       "<style scoped>\n",
       "    .dataframe tbody tr th:only-of-type {\n",
       "        vertical-align: middle;\n",
       "    }\n",
       "\n",
       "    .dataframe tbody tr th {\n",
       "        vertical-align: top;\n",
       "    }\n",
       "\n",
       "    .dataframe thead th {\n",
       "        text-align: right;\n",
       "    }\n",
       "</style>\n",
       "<table border=\"1\" class=\"dataframe\">\n",
       "  <thead>\n",
       "    <tr style=\"text-align: right;\">\n",
       "      <th></th>\n",
       "      <th>Genus</th>\n",
       "    </tr>\n",
       "    <tr>\n",
       "      <th>Species</th>\n",
       "      <th></th>\n",
       "    </tr>\n",
       "  </thead>\n",
       "  <tbody>\n",
       "    <tr>\n",
       "      <th>Sternoptyx diaphana</th>\n",
       "      <td>3</td>\n",
       "    </tr>\n",
       "    <tr>\n",
       "      <th>Sternoptyx sp.</th>\n",
       "      <td>10</td>\n",
       "    </tr>\n",
       "  </tbody>\n",
       "</table>\n",
       "</div>"
      ],
      "text/plain": [
       "                     Genus\n",
       "Species                   \n",
       "Sternoptyx diaphana      3\n",
       "Sternoptyx sp.          10"
      ]
     },
     "execution_count": 127,
     "metadata": {},
     "output_type": "execute_result"
    }
   ],
   "source": [
    "tbl2 = brusker_scan[brusker_scan[\"Genus\"] == \"Sternoptyx\"][[\"Species\", \"Genus\"]].groupby(\"Species\").count() \n",
    "tbl2[tbl2[\"Genus\"] > 1]"
   ]
  },
  {
   "cell_type": "code",
   "execution_count": 130,
   "metadata": {},
   "outputs": [
    {
     "data": {
      "image/png": "[encoded data removed]",
      "text/plain": [
       "<Figure size 720x576 with 1 Axes>"
      ]
     },
     "metadata": {
      "needs_background": "light"
     },
     "output_type": "display_data"
    }
   ],
   "source": [
    "def count_of_more_than_one_scanned(genus_name): \n",
    "    '''Takes in a genus name and outputs the count of how many species \n",
    "    within that genus were scanned more than once'''\n",
    "    \n",
    "    tbl = brusker_scan[brusker_scan[\"Genus\"] == genus_name][[\"Species\", \"Genus\"]].groupby(\"Species\").count()\n",
    "    return len(tbl[tbl[\"Genus\"] > 1])\n",
    "\n",
    "num = [count_of_more_than_one_scanned(name) for name in x]\n",
    "num\n",
    "\n",
    "plt.figure(figsize=(10, 8))\n",
    "sns.barplot(x, num)\n",
    "\n",
    "plt.ylabel(\"Count\")\n",
    "plt.title(\"Number of species that were scanned more than once for that specific genus\")\n",
    "plt.xticks(rotation=90);\n"
   ]
  },
  {
   "cell_type": "markdown",
   "metadata": {},
   "source": [
    "And it looks like within our sample, the Cottus genus had more species that were counted/scanned more than once, which may have contributed to why there is such an over-representation in our small sample. But of course, there may be other factors as well since I haven't extensively explored or cleaned the dataset, so further analysis must be done as well."
   ]
  },
  {
   "cell_type": "markdown",
   "metadata": {},
   "source": [
    "Note: I was lucky enough that the dataset I was interested in had an organized google doc that I converted into a csv file (Of course there's still some data cleaning that I need to do). Not all datasets on MorphoSource have an aggregate of organized information on a single spreadsheet, but it's still really cool to take a look at the media images provided even if there aren't any csv/json file data (and if you want, perhaps you can get ahold of the data supplier for additional information).  "
   ]
  },
  {
   "cell_type": "markdown",
   "metadata": {},
   "source": [
    "## Accessing Data (Part 2-3D Render) "
   ]
  },
  {
   "cell_type": "markdown",
   "metadata": {},
   "source": [
    "I was really curious as to how I could construct the 3D images of the scans I downloaded from MorphoSource, so I did some research and ended up googling \"how to convert tiff files into stl files\" (because apparently you stl files are the formats you want your files to be in so that you can 3D print them). From there, I ended up reading several posts and coming across [Fiji (an image processing package of ImageJ)](https://imagej.net/Fiji). You can download it for free, and import tiff sequence files to render a 3D image of the stack scans from MorphoSource. \n",
    "\n",
    "If you want you can totally watch this [Youtube video](https://www.youtube.com/watch?v=2N7i_gGYGLQ&list=WL&t=0s&index=4) which I thought was VERY helpful in understanding how to use Fiji. Otherwise, I will be summarizing a brief step by step process: \n",
    "\n",
    "Note: I'm using a mac, so instructions/references may differ slightly (but I believe person in the linked Youtube Video is on Windows)\n",
    "\n",
    "1. Download the data set from MorphoSource (for me, I downloaded one of the fish scans from the dataset above, which you can get [here](https://www.morphosource.org/Detail/MediaDetail/Show/media_id/16076) (I'm working with the Pygocentrus piraya) \n",
    "\n",
    "\n",
    "2. Make sure to unzip the specimen folder (aka, double click on the .zip file) \n",
    "\n",
    "\n",
    "3. Download Fiji (linked [here](https://imagej.net/Fiji) again)\n",
    "\n",
    "\n",
    "4. Open Fiji\n",
    "\n",
    "\n",
    "5. Go to File --> Import --> Image Sequence\n",
    "\n",
    "\n",
    "6. From there, a Finder window should pop up; go to where you've downloaded your dataset from MorphoSource, and select the unziped file/folder, then navigate to the \"Stack\" folder, which should contain the images of all your stack scans\n",
    "\n",
    "\n",
    "7. Click \"Open\" and a \"Sequence Options\" window should pop up asking you to set the \"Number of images\", \"Starting image\", etc.\n",
    "\n",
    "8. Set \"Increment\" to 2, \"Scale\" to 70, and make sure that \"Convert to 8-bit GreyScale\" is selected \n",
    "\n",
    "After selecting Ok, your Stack files should be imported, and another window should pop up with a slider at the bottom which will allow you to go through your slices! It's really cool to look at, and if you wanted to stop here, you can actually re-import the stack files with \"Increment\" and \"Scale\" set as its default settings, so that you can see every single frame/slice. But if you want to continue to the 3D model, leave the settings as described in step 8, unless you are confident your memory space is large enough.\n",
    "\n",
    "E.g. Your Sequence Options should look like the following (feel free to mess around with the settings): \n",
    "\n",
    "![image](images/morpho1_images/SequenceOptions.png)\n",
    "\n",
    "\n"
   ]
  },
  {
   "cell_type": "markdown",
   "metadata": {},
   "source": [
    "9. To access the 3D Viewer, go to Plugins --> 3D Viewer\n",
    "\n",
    "\n",
    "10. Something similar to the following image should pop up (see below), you can leave the settings as is, and simply click OK \n",
    "\n",
    "![image](images/morpho1_images/3D_viewer.png)\n",
    "\n",
    "\n",
    "\n",
    "**Note**: if you do get a \"OutofMemoryError, go to step 11, otherwise, go to step 12)\n",
    "\n"
   ]
  },
  {
   "cell_type": "markdown",
   "metadata": {},
   "source": [
    "11. **(Skip this step if you don't get an error)** When I first started learning how to import the images into the 3D viewer, I got a Out of Memory Error, which prevented me from rendering the image. I realized, after reading some more documentation, you can change the total amount of memory available for the Fiji package. If you click on the status bar after opening up Fiji, you will be able to see how much memory you have and how much you are currently using. See picture below for a better instructions on how to access status bar and resolve out of memory issue: \n",
    "\n",
    "\n",
    "![image](images/morpho1_images/Status_Bar.png)\n",
    "\n"
   ]
  },
  {
   "cell_type": "markdown",
   "metadata": {},
   "source": [
    "As a result, I followed the above instructions to change my Maximum memory to 3000. Then, I restarted Fiji, and redid steps 1-10.  "
   ]
  },
  {
   "cell_type": "markdown",
   "metadata": {},
   "source": [
    "12. After clicking \"OK\", you might get a blob image as shown in the first image below, but after adjusting the threshold, the image render should be much better (second image below)\n",
    "\n",
    "How to adjust the threshold: \n",
    "\n",
    "13. Make sure you click on the 3D Viewer window first so that you are in that environment, then go to Edit --> Adjust Threshold, from there a smaller window should pop up and you can play around with the slider to adjust threshold. As you adjust the threshold, you should get finer details on the bone structure of the fish (or whatever image you decide to play with)!\n",
    "\n",
    "Note: You can use hold the Shift key in Mac to move/center the 3D image as you rotate the model.\n",
    "\n",
    "By the end of this, you should have something that looks similar to the second image below: \n",
    "\n",
    "\n",
    "**Blob (left) and Threshold Ajusted (right)**\n",
    "<table><tr><td><img src='images/morpho1_images/blob.png'></td><td><img src='images/morpho1_images/Updated.png'></td></tr></table>\n",
    "\n",
    "\n",
    "\n",
    "**Mini gif of the 3D model on FIJI** (from blob to thresholded) \n",
    "<img src=\"https://media.giphy.com/media/7YCVTkzLeKxutYmdqd/giphy.gif\" height=\"400\" width=\"400\"/>\n"
   ]
  },
  {
   "cell_type": "markdown",
   "metadata": {},
   "source": [
    "Ta da! You have the 3D version of the stack scans! And you can totally do this with all the other image scan data from MorphoSource. But the uploaded images on MorphoSource may have different file formats which Fiji doesn't support, so do double check, because according to [Fiji's File Documentation](https://imagej.nih.gov/ij/docs/menus/file.html#seq1), \"files must be in TIFF, GIF, JPEG, DICOM, BMP, PGM or FITS format\""
   ]
  }
 ],
 "metadata": {
  "kernelspec": {
   "display_name": "Python 3",
   "language": "python",
   "name": "python3"
  },
  "language_info": {
   "codemirror_mode": {
    "name": "ipython",
    "version": 3
   },
   "file_extension": ".py",
   "mimetype": "text/x-python",
   "name": "python",
   "nbconvert_exporter": "python",
   "pygments_lexer": "ipython3",
   "version": "3.6.8"
  }
 },
 "nbformat": 4,
 "nbformat_minor": 2
}
